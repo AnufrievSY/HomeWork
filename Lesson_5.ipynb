{
 "cells": [
  {
   "cell_type": "markdown",
   "id": "9162c6d6",
   "metadata": {},
   "source": [
    "1. Найдите посредством NumPy SVD для матрицы:\n",
    "\n",
    "$$\\begin{pmatrix}\n",
    "1 & 2 & 0\\\\ \n",
    "0 & 0 & 5\\\\ \n",
    "3 & -4 & 2\\\\ \n",
    "1 & 6 & 5\\\\ \n",
    "0 & 1 & 0\n",
    "\\end{pmatrix}.$$\n",
    "\n",
    "\n",
    "2. Для матрицы из предыдущего задания найдите:\n",
    "\n",
    "    а) евклидову норму;\n",
    "    \n",
    "    б) норму Фробениуса."
   ]
  },
  {
   "cell_type": "code",
   "execution_count": 1,
   "id": "c0dfd64a",
   "metadata": {},
   "outputs": [],
   "source": [
    "import numpy as np\n",
    "np.set_printoptions(precision=2, suppress=True)\n",
    "\n",
    "from sympy import * \n",
    "init_printing()"
   ]
  },
  {
   "cell_type": "code",
   "execution_count": 2,
   "id": "5302cc35",
   "metadata": {},
   "outputs": [],
   "source": [
    "A = np.array([[1, 2, 0],[0, 0, 5], [3, -4, 2], [1, 6, 5], [0, 1, 0]])\n",
    "\n",
    "U, s, W = np.linalg.svd(A)\n",
    "\n",
    "V = W.T\n",
    "\n",
    "D = np.zeros_like(A, dtype=float)\n",
    "D[np.diag_indices(min(A.shape))] = s"
   ]
  },
  {
   "cell_type": "code",
   "execution_count": 3,
   "id": "4da265cf",
   "metadata": {},
   "outputs": [
    {
     "name": "stdout",
     "output_type": "stream",
     "text": [
      "Матрица D:\n",
      "[[8.82 0.   0.  ]\n",
      " [0.   6.14 0.  ]\n",
      " [0.   0.   2.53]\n",
      " [0.   0.   0.  ]\n",
      " [0.   0.   0.  ]]\n"
     ]
    }
   ],
   "source": [
    "print(f'Матрица D:\\n{D}')"
   ]
  },
  {
   "cell_type": "code",
   "execution_count": 4,
   "id": "30472b64",
   "metadata": {},
   "outputs": [
    {
     "name": "stdout",
     "output_type": "stream",
     "text": [
      "Матрица U:\n",
      "[[ 0.17  0.16 -0.53 -0.8  -0.16]\n",
      " [ 0.39 -0.53  0.61 -0.43  0.03]\n",
      " [-0.14 -0.82 -0.52  0.14  0.07]\n",
      " [ 0.89  0.06 -0.25  0.38 -0.06]\n",
      " [ 0.08  0.11 -0.08 -0.11  0.98]]\n",
      "\n",
      "Доказательство её ортогональности:\n",
      "[[ 1.  0. -0.  0. -0.]\n",
      " [ 0.  1.  0.  0.  0.]\n",
      " [-0.  0.  1. -0. -0.]\n",
      " [ 0.  0. -0.  1. -0.]\n",
      " [-0.  0. -0. -0.  1.]]\n"
     ]
    }
   ],
   "source": [
    "print(f'Матрица U:\\n{U}\\n')\n",
    "print(f'Доказательство её ортогональности:\\n{np.dot(U.T, U)}')"
   ]
  },
  {
   "cell_type": "code",
   "execution_count": 5,
   "id": "538abe1b",
   "metadata": {},
   "outputs": [
    {
     "name": "stdout",
     "output_type": "stream",
     "text": [
      "Матрица U:\n",
      "[[ 0.07 -0.37 -0.93]\n",
      " [ 0.72  0.67 -0.21]\n",
      " [ 0.69 -0.65  0.31]]\n",
      "\n",
      "Доказательство её ортогональности:\n",
      "[[ 1.  0. -0.]\n",
      " [ 0.  1. -0.]\n",
      " [-0. -0.  1.]]\n"
     ]
    }
   ],
   "source": [
    "print(f'Матрица U:\\n{V}\\n')\n",
    "print(f'Доказательство её ортогональности:\\n{np.dot(V.T, V)}')"
   ]
  },
  {
   "cell_type": "code",
   "execution_count": 8,
   "id": "50cb5e2e",
   "metadata": {},
   "outputs": [
    {
     "name": "stdout",
     "output_type": "stream",
     "text": [
      "A = UD(V.T): True\n"
     ]
    }
   ],
   "source": [
    "check = np.array([[round(j) for j in i] for i in np.dot(np.dot(U, D), V.T)])\n",
    "answer = sum([list(i).count(True) for i in check==A]) == check.size\n",
    "print(f'A = UD(V.T): {answer}')"
   ]
  },
  {
   "cell_type": "code",
   "execution_count": 17,
   "id": "d8fe7aa2",
   "metadata": {},
   "outputs": [
    {
     "name": "stdout",
     "output_type": "stream",
     "text": [
      "Евклидова норма для данной матрицы = 8.824868854820444\n"
     ]
    }
   ],
   "source": [
    "print(f'Евклидова норма для данной матрицы = {np.linalg.norm(A, 2)}')"
   ]
  },
  {
   "cell_type": "code",
   "execution_count": 16,
   "id": "3cd29de5",
   "metadata": {},
   "outputs": [
    {
     "name": "stdout",
     "output_type": "stream",
     "text": [
      "Норма Фробениуса для данной матрицы = 11.045361017187261\n"
     ]
    }
   ],
   "source": [
    "print(f'Норма Фробениуса для данной матрицы = {np.linalg.norm(A, \"fro\")}')"
   ]
  }
 ],
 "metadata": {
  "kernelspec": {
   "display_name": "Python 3 (ipykernel)",
   "language": "python",
   "name": "python3"
  },
  "language_info": {
   "codemirror_mode": {
    "name": "ipython",
    "version": 3
   },
   "file_extension": ".py",
   "mimetype": "text/x-python",
   "name": "python",
   "nbconvert_exporter": "python",
   "pygments_lexer": "ipython3",
   "version": "3.9.7"
  }
 },
 "nbformat": 4,
 "nbformat_minor": 5
}
